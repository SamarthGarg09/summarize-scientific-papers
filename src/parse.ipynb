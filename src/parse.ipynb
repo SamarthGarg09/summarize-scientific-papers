{
 "cells": [
  {
   "cell_type": "code",
   "execution_count": null,
   "metadata": {},
   "outputs": [],
   "source": [
    "import os\n",
    "import xml.etree.cElementTree as et\n",
    "from tqdm import tqdm\n",
    "from pathlib import Path\n",
    "import pandas as pd"
   ]
  },
  {
   "cell_type": "code",
   "execution_count": 1,
   "metadata": {},
   "outputs": [],
   "source": [
    "def xml_to_text(path):\n",
    "    tree = et.parse(path)\n",
    "    root = tree.getroot()\n",
    "    text = []\n",
    "    for i in root.iter(\"SECTION\"):\n",
    "        for j in i.iter(\"S\"):\n",
    "            text.append(j.text)\n",
    "    return text\n",
    "        \n",
    "\n",
    "def fetch_data(path='dataset/top1000_complete', data_type=\"Documents_xml\"):\n",
    "    texts = []\n",
    "    path = Path(path)\n",
    "    directory_names = os.listdir('dataset/top1000_complete')\n",
    "    for name in tqdm(directory_names): \n",
    "        new_path = path / name\n",
    "        if data_type == \"Documents_xml\":\n",
    "            final_path = new_path / \"Documents_xml\"/ Path(name + \".xml\")\n",
    "            texts.append(xml_to_text(final_path))\n",
    "        else:\n",
    "            final_path = new_path / 'summary' / Path(name + \".gold.txt\")\n",
    "            with open(final_path, 'r') as f:\n",
    "                texts.append(f.read())\n",
    "    \n",
    "    return texts, directory_names\n"
   ]
  },
  {
   "cell_type": "code",
   "execution_count": 2,
   "metadata": {},
   "outputs": [
    {
     "data": {
      "text/plain": [
       "1009"
      ]
     },
     "execution_count": 2,
     "metadata": {},
     "output_type": "execute_result"
    }
   ],
   "source": [
    "len(os.listdir('dataset/top1000_complete'))"
   ]
  },
  {
   "cell_type": "code",
   "execution_count": 3,
   "metadata": {},
   "outputs": [
    {
     "name": "stderr",
     "output_type": "stream",
     "text": [
      "100%|██████████| 1009/1009 [00:04<00:00, 214.23it/s]\n",
      "100%|██████████| 1009/1009 [00:01<00:00, 867.63it/s]\n"
     ]
    },
    {
     "data": {
      "text/html": [
       "<div>\n",
       "<style scoped>\n",
       "    .dataframe tbody tr th:only-of-type {\n",
       "        vertical-align: middle;\n",
       "    }\n",
       "\n",
       "    .dataframe tbody tr th {\n",
       "        vertical-align: top;\n",
       "    }\n",
       "\n",
       "    .dataframe thead th {\n",
       "        text-align: right;\n",
       "    }\n",
       "</style>\n",
       "<table border=\"1\" class=\"dataframe\">\n",
       "  <thead>\n",
       "    <tr style=\"text-align: right;\">\n",
       "      <th></th>\n",
       "      <th>text</th>\n",
       "      <th>summary</th>\n",
       "    </tr>\n",
       "  </thead>\n",
       "  <tbody>\n",
       "    <tr>\n",
       "      <th>0</th>\n",
       "      <td>[Human evaluations of machine translation (MT)...</td>\n",
       "      <td>Bleu: A Method For Automatic Evaluation Of Mac...</td>\n",
       "    </tr>\n",
       "    <tr>\n",
       "      <th>1</th>\n",
       "      <td>[A large number of current language processing...</td>\n",
       "      <td>TnT - A Statistical Part-Of-Speech Tagger\\nTri...</td>\n",
       "    </tr>\n",
       "    <tr>\n",
       "      <th>2</th>\n",
       "      <td>[Current automatic summarizers usually rely on...</td>\n",
       "      <td>Sentence Reduction For Automatic Text Summariz...</td>\n",
       "    </tr>\n",
       "    <tr>\n",
       "      <th>3</th>\n",
       "      <td>[Even moderately long documents typically addr...</td>\n",
       "      <td>Advances In Domain Independent Linear Text Seg...</td>\n",
       "    </tr>\n",
       "    <tr>\n",
       "      <th>4</th>\n",
       "      <td>[Word sense disambiguation is often cast as a ...</td>\n",
       "      <td>A Simple Approach To Building Ensembles Of Nai...</td>\n",
       "    </tr>\n",
       "  </tbody>\n",
       "</table>\n",
       "</div>"
      ],
      "text/plain": [
       "                                                text  \\\n",
       "0  [Human evaluations of machine translation (MT)...   \n",
       "1  [A large number of current language processing...   \n",
       "2  [Current automatic summarizers usually rely on...   \n",
       "3  [Even moderately long documents typically addr...   \n",
       "4  [Word sense disambiguation is often cast as a ...   \n",
       "\n",
       "                                             summary  \n",
       "0  Bleu: A Method For Automatic Evaluation Of Mac...  \n",
       "1  TnT - A Statistical Part-Of-Speech Tagger\\nTri...  \n",
       "2  Sentence Reduction For Automatic Text Summariz...  \n",
       "3  Advances In Domain Independent Linear Text Seg...  \n",
       "4  A Simple Approach To Building Ensembles Of Nai...  "
      ]
     },
     "execution_count": 3,
     "metadata": {},
     "output_type": "execute_result"
    }
   ],
   "source": [
    "texts, directory_names = fetch_data()\n",
    "summaries, d_name = fetch_data(data_type=\"summary\")\n",
    "\n",
    "#  create a dataframe storing text, summary and by taking intersection of d_name and directory_names\n",
    "df = pd.DataFrame({'text': texts, 'summary': summaries, 'd_name': d_name, 'directory_names': directory_names})\n",
    "df = df[df['d_name'] == df['directory_names']]\n",
    "df = df.drop(['d_name', 'directory_names'], axis=1)\n",
    "df.head()"
   ]
  },
  {
   "cell_type": "code",
   "execution_count": 4,
   "metadata": {},
   "outputs": [
    {
     "name": "stdout",
     "output_type": "stream",
     "text": [
      "<class 'pandas.core.frame.DataFrame'>\n",
      "Int64Index: 1009 entries, 0 to 1008\n",
      "Data columns (total 2 columns):\n",
      " #   Column   Non-Null Count  Dtype \n",
      "---  ------   --------------  ----- \n",
      " 0   text     1009 non-null   object\n",
      " 1   summary  1009 non-null   object\n",
      "dtypes: object(2)\n",
      "memory usage: 23.6+ KB\n"
     ]
    }
   ],
   "source": [
    "df.info()"
   ]
  },
  {
   "cell_type": "code",
   "execution_count": 5,
   "metadata": {},
   "outputs": [
    {
     "data": {
      "text/html": [
       "<div>\n",
       "<style scoped>\n",
       "    .dataframe tbody tr th:only-of-type {\n",
       "        vertical-align: middle;\n",
       "    }\n",
       "\n",
       "    .dataframe tbody tr th {\n",
       "        vertical-align: top;\n",
       "    }\n",
       "\n",
       "    .dataframe thead th {\n",
       "        text-align: right;\n",
       "    }\n",
       "</style>\n",
       "<table border=\"1\" class=\"dataframe\">\n",
       "  <thead>\n",
       "    <tr style=\"text-align: right;\">\n",
       "      <th></th>\n",
       "      <th>text</th>\n",
       "      <th>summary</th>\n",
       "    </tr>\n",
       "  </thead>\n",
       "  <tbody>\n",
       "    <tr>\n",
       "      <th>0</th>\n",
       "      <td>summarize: Human evaluations of machine transl...</td>\n",
       "      <td>Bleu: A Method For Automatic Evaluation Of Mac...</td>\n",
       "    </tr>\n",
       "    <tr>\n",
       "      <th>1</th>\n",
       "      <td>summarize: A large number of current language ...</td>\n",
       "      <td>TnT - A Statistical Part-Of-Speech Tagger\\nTri...</td>\n",
       "    </tr>\n",
       "    <tr>\n",
       "      <th>2</th>\n",
       "      <td>summarize: Current automatic summarizers usual...</td>\n",
       "      <td>Sentence Reduction For Automatic Text Summariz...</td>\n",
       "    </tr>\n",
       "    <tr>\n",
       "      <th>3</th>\n",
       "      <td>summarize: Even moderately long documents typi...</td>\n",
       "      <td>Advances In Domain Independent Linear Text Seg...</td>\n",
       "    </tr>\n",
       "    <tr>\n",
       "      <th>4</th>\n",
       "      <td>summarize: Word sense disambiguation is often ...</td>\n",
       "      <td>A Simple Approach To Building Ensembles Of Nai...</td>\n",
       "    </tr>\n",
       "  </tbody>\n",
       "</table>\n",
       "</div>"
      ],
      "text/plain": [
       "                                                text  \\\n",
       "0  summarize: Human evaluations of machine transl...   \n",
       "1  summarize: A large number of current language ...   \n",
       "2  summarize: Current automatic summarizers usual...   \n",
       "3  summarize: Even moderately long documents typi...   \n",
       "4  summarize: Word sense disambiguation is often ...   \n",
       "\n",
       "                                             summary  \n",
       "0  Bleu: A Method For Automatic Evaluation Of Mac...  \n",
       "1  TnT - A Statistical Part-Of-Speech Tagger\\nTri...  \n",
       "2  Sentence Reduction For Automatic Text Summariz...  \n",
       "3  Advances In Domain Independent Linear Text Seg...  \n",
       "4  A Simple Approach To Building Ensembles Of Nai...  "
      ]
     },
     "execution_count": 5,
     "metadata": {},
     "output_type": "execute_result"
    }
   ],
   "source": [
    "df['text'] = df.apply(lambda x: ' '.join(x['text']), axis=1)\n",
    "df['text'] = df.apply(lambda x: 'summarize: ' + x['text'], axis=1)\n",
    "df.head()"
   ]
  },
  {
   "cell_type": "code",
   "execution_count": null,
   "metadata": {},
   "outputs": [],
   "source": [
    "df.to_csv(\"./main.csv\", index=False)"
   ]
  }
 ],
 "metadata": {
  "kernelspec": {
   "display_name": "base",
   "language": "python",
   "name": "python3"
  },
  "language_info": {
   "codemirror_mode": {
    "name": "ipython",
    "version": 3
   },
   "file_extension": ".py",
   "mimetype": "text/x-python",
   "name": "python",
   "nbconvert_exporter": "python",
   "pygments_lexer": "ipython3",
   "version": "3.9.13 (main, Aug 25 2022, 23:26:10) \n[GCC 11.2.0]"
  },
  "orig_nbformat": 4,
  "vscode": {
   "interpreter": {
    "hash": "ccf8f30e77093729742405d54c9e75678c70bdc964609122f3fc0f9f893184f4"
   }
  }
 },
 "nbformat": 4,
 "nbformat_minor": 2
}
